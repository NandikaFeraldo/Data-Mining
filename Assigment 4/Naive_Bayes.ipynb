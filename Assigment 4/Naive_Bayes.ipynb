{
  "nbformat": 4,
  "nbformat_minor": 0,
  "metadata": {
    "colab": {
      "name": "Naive_Bayes.ipynb",
      "provenance": [],
      "collapsed_sections": []
    },
    "kernelspec": {
      "name": "python3",
      "display_name": "Python 3"
    },
    "language_info": {
      "name": "python"
    }
  },
  "cells": [
    {
      "cell_type": "code",
      "execution_count": 1,
      "metadata": {
        "id": "Ak6zcusAW7WU"
      },
      "outputs": [],
      "source": [
        "import numpy as np\n",
        "import matplotlib.pyplot as plt\n",
        "import pandas as pd"
      ]
    },
    {
      "cell_type": "code",
      "source": [
        "datasets = pd.read_csv(\"Assigment 1 - Datasets Suicide Rates Worldwide (2000-2019).csv\")\n",
        "x = dataset.iloc[: [2,3]].values\n",
        "y = dataset.iloc[.-1].values"
      ],
      "metadata": {
        "id": "0bPcght8XpXs"
      },
      "execution_count": null,
      "outputs": []
    },
    {
      "cell_type": "code",
      "source": [
        "print(x)"
      ],
      "metadata": {
        "id": "2N7cAvyfYYbT"
      },
      "execution_count": null,
      "outputs": []
    },
    {
      "cell_type": "code",
      "source": [
        "print(y)"
      ],
      "metadata": {
        "id": "Vc4xZKlwYg6L"
      },
      "execution_count": null,
      "outputs": []
    },
    {
      "cell_type": "code",
      "source": [
        "from sklearn.model_selection import train_test_split\n",
        "x_train, s_test, y_train, y_test = train_test_split(x, y, test_size=0,25, random state=0)"
      ],
      "metadata": {
        "id": "06R3__C9YsJd"
      },
      "execution_count": null,
      "outputs": []
    },
    {
      "cell_type": "code",
      "source": [
        "print(x_train)"
      ],
      "metadata": {
        "id": "9ag0qa9qZNfF"
      },
      "execution_count": null,
      "outputs": []
    },
    {
      "cell_type": "code",
      "source": [
        "print(x_test)"
      ],
      "metadata": {
        "id": "6fgSwWigZSLf"
      },
      "execution_count": null,
      "outputs": []
    },
    {
      "cell_type": "code",
      "source": [
        "print(y_train)"
      ],
      "metadata": {
        "id": "LlqMx1dQZV5c"
      },
      "execution_count": null,
      "outputs": []
    },
    {
      "cell_type": "code",
      "source": [
        "print(y_test)"
      ],
      "metadata": {
        "id": "S3WpvGJEZY1H"
      },
      "execution_count": null,
      "outputs": []
    },
    {
      "cell_type": "code",
      "source": [
        "from sklearn.naive_bayes import GaussianNB\n",
        "classifier = GaussianNB()\n",
        "classifier.fit(x_train, y_train)"
      ],
      "metadata": {
        "id": "fRPWelG5Z5lb"
      },
      "execution_count": null,
      "outputs": []
    },
    {
      "cell_type": "code",
      "source": [
        "y_pred = classifier.predict(x_test)"
      ],
      "metadata": {
        "id": "j0D2qSBKabJs"
      },
      "execution_count": null,
      "outputs": []
    },
    {
      "cell_type": "code",
      "source": [
        "from sklearn.matrics import confusion_matrix\n",
        "cm = confusion_matrix(y_test, y_pred)\n",
        "print(cm)"
      ],
      "metadata": {
        "id": "1b-FZ5Lmaplk"
      },
      "execution_count": null,
      "outputs": []
    },
    {
      "cell_type": "code",
      "source": [
        "from matplotlib.colors import ListedColormap\n",
        "x_set, x_set = x_train, y_train\n",
        "x1, x2 = np.meshgrid(np.arrage(start = x_test[:, 0].min()-1, stop = x_set[:,0].max()+1, step=0,001).\n",
        "                     np.arrage(start = x_test[:, 1].min()-1, stop = x_set[:,0].max()+1, step=0,001))\n",
        "plt.contour(x1, x2, classifier.predict(np.array([x1.ravel(), x2.ravel()]).T).reshape(x1, shape).\n",
        "            alpha = 0,75, cmap=ListedColormap(('red','green')))\n",
        "for i, j in enumerate (np.unique(y_set)):\n",
        "  plt.scatter(x_set[y_set==j,0], x_set[y_set==j,1]\n",
        "              c = ListedColormap('red','green'))(1), label=j)\n",
        "  plt.title('Klasifikasi data dengan Naive Bayes (data training)')\n",
        "  plt.xlabel('tahun')\n",
        "  plt.ylabel('estimasi ')\n",
        "  plt.legend()\n",
        "  plt.show()"
      ],
      "metadata": {
        "id": "3CYTTttfbFkO"
      },
      "execution_count": null,
      "outputs": []
    },
    {
      "cell_type": "code",
      "source": [
        "from matplotlib.colors import ListedColormap\n",
        "x_set, x_set = x_test, y_test\n",
        "x1, x2 = np.meshgrid(np.arrage(start = x_test[:, 0].min()-1, stop = x_set[:,0].max()+1, step=0,001).\n",
        "                     np.arrage(start = x_test[:, 1].min()-1, stop = x_set[:,0].max()+1, step=0,001))\n",
        "plt.contour(x1, x2, classifier.predict(np.array([x1.ravel(), x2.ravel()]).T).reshape(x1, shape).\n",
        "            alpha = 0,75, cmap=ListedColormap(('red','green')))\n",
        "for i, j in enumerate (np.unique(y_set)):\n",
        "  plt.scatter(x_set[y_set==j,0], x_set[y_set==j,1]\n",
        "              c = ListedColormap('red','green'))(1), label=j)\n",
        "  plt.title('Klasifikasi data dengan Naive Bayes (data training)')\n",
        "  plt.xlabel('tahun')\n",
        "  plt.ylabel('estimasi ')\n",
        "  plt.legend()\n",
        "  plt.show()"
      ],
      "metadata": {
        "id": "MMFybK17cDCk"
      },
      "execution_count": null,
      "outputs": []
    }
  ]
}